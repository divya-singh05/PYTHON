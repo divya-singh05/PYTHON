{
  "cells": [
    {
      "cell_type": "code",
      "execution_count": null,
      "metadata": {
        "colab": {
          "base_uri": "https://localhost:8080/"
        },
        "id": "0N1slZmKIOqr",
        "outputId": "98a42711-f15d-436c-d10e-0787fb32a6cf"
      },
      "outputs": [
        {
          "name": "stdout",
          "output_type": "stream",
          "text": [
            "B is greater than A\n"
          ]
        }
      ],
      "source": [
        " a=100\n",
        "b=200\n",
        "if b>a:\n",
        "  print('B is greater than A')"
      ]
    },
    {
      "cell_type": "code",
      "execution_count": null,
      "metadata": {
        "colab": {
          "base_uri": "https://localhost:8080/"
        },
        "id": "JjtnmceXIcCT",
        "outputId": "08fdb3f3-fc33-41ab-873e-2a4f3fde2a41"
      },
      "outputs": [
        {
          "name": "stdout",
          "output_type": "stream",
          "text": [
            "A is greater than B\n"
          ]
        }
      ],
      "source": [
        "a=546\n",
        "b=200\n",
        "if a>b:\n",
        "  print('A is greater than B')"
      ]
    },
    {
      "cell_type": "code",
      "execution_count": null,
      "metadata": {
        "id": "x0oXNvQQH4Ve"
      },
      "outputs": [],
      "source": [
        "#If Statement"
      ]
    },
    {
      "cell_type": "code",
      "execution_count": null,
      "metadata": {
        "id": "wBFOq81aLW5g"
      },
      "outputs": [],
      "source": [
        "a= 24\n",
        "if a>=18:\n",
        "  print(\"You are an adult\")"
      ]
    },
    {
      "cell_type": "code",
      "execution_count": null,
      "metadata": {
        "colab": {
          "base_uri": "https://localhost:8080/"
        },
        "id": "va_Jg8GiLgF0",
        "outputId": "7dee5c0b-5cd9-49b5-9bbb-fad3749b41e4"
      },
      "outputs": [
        {
          "name": "stdout",
          "output_type": "stream",
          "text": [
            "You are a teenager \n"
          ]
        }
      ],
      "source": [
        "a= 12\n",
        "if a>=18:\n",
        "  print(\"You are an adult\")\n",
        "else:\n",
        "  print(\"You are a teenager \")"
      ]
    },
    {
      "cell_type": "code",
      "execution_count": null,
      "metadata": {
        "colab": {
          "base_uri": "https://localhost:8080/"
        },
        "id": "GHgdSeyvMMCa",
        "outputId": "8b47bb7c-1aa7-4e7d-8feb-deb9e67f2246"
      },
      "outputs": [
        {
          "name": "stdout",
          "output_type": "stream",
          "text": [
            "you are an adult\n"
          ]
        }
      ],
      "source": [
        "age=19\n",
        "if age>=18:\n",
        "  print(\"you are an adult\")"
      ]
    },
    {
      "cell_type": "code",
      "execution_count": null,
      "metadata": {
        "colab": {
          "base_uri": "https://localhost:8080/"
        },
        "id": "bgAYMvrJObBv",
        "outputId": "8d4b8555-bb61-4bdd-daee-7017d4a77806"
      },
      "outputs": [
        {
          "name": "stdout",
          "output_type": "stream",
          "text": [
            "Both Conditions are True\n"
          ]
        }
      ],
      "source": [
        "x=5\n",
        "y=10\n",
        "if x>3 and y>8:\n",
        "  print('Both Conditions are True')"
      ]
    },
    {
      "cell_type": "code",
      "execution_count": null,
      "metadata": {
        "colab": {
          "base_uri": "https://localhost:8080/"
        },
        "id": "LsbyWtePOzLC",
        "outputId": "ccbcb4b6-599f-4a57-d783-49149adc4f8d"
      },
      "outputs": [
        {
          "name": "stdout",
          "output_type": "stream",
          "text": [
            "Both Conditions are True\n"
          ]
        }
      ],
      "source": [
        "x=6\n",
        "y=9\n",
        "if x>3 and y>8:\n",
        "  print('Both Conditions are True')"
      ]
    },
    {
      "cell_type": "code",
      "execution_count": null,
      "metadata": {
        "colab": {
          "base_uri": "https://localhost:8080/"
        },
        "id": "TAfRR2SxPzox",
        "outputId": "6eb7d051-e605-4628-b9e8-516396730250"
      },
      "outputs": [
        {
          "name": "stdout",
          "output_type": "stream",
          "text": [
            "Both Conditions are True\n"
          ]
        }
      ],
      "source": [
        "x=5\n",
        "y=2\n",
        "if x>3 or y>8:\n",
        "  print('Both Conditions are True')"
      ]
    },
    {
      "cell_type": "code",
      "execution_count": null,
      "metadata": {
        "colab": {
          "base_uri": "https://localhost:8080/"
        },
        "id": "OzBLmdWaQtlR",
        "outputId": "30eeae5d-f348-4ef2-85e1-3e381683abea"
      },
      "outputs": [
        {
          "name": "stdout",
          "output_type": "stream",
          "text": [
            "A is smaller than B\n"
          ]
        }
      ],
      "source": [
        "a= 12\n",
        "b=23\n",
        "if a<b:\n",
        "  print('A is smaller than B')"
      ]
    },
    {
      "cell_type": "code",
      "execution_count": null,
      "metadata": {
        "colab": {
          "base_uri": "https://localhost:8080/"
        },
        "id": "2uzmwOl1ugyc",
        "outputId": "b675387f-3495-429b-c750-b7441273aa3a"
      },
      "outputs": [
        {
          "name": "stdout",
          "output_type": "stream",
          "text": [
            "both are same\n"
          ]
        }
      ],
      "source": [
        "a=33\n",
        "b=33\n",
        "if a==b:\n",
        "  print(\"both are same\")"
      ]
    },
    {
      "cell_type": "code",
      "execution_count": null,
      "metadata": {
        "colab": {
          "base_uri": "https://localhost:8080/"
        },
        "id": "pPMRI5EZv0RB",
        "outputId": "c7de3159-9a64-49cf-c11b-8949b81bbd0e"
      },
      "outputs": [
        {
          "name": "stdout",
          "output_type": "stream",
          "text": [
            "both are Different\n"
          ]
        }
      ],
      "source": [
        "a=33\n",
        "b=54\n",
        "if a!=b:\n",
        "  print(\"both are Different\")\n"
      ]
    },
    {
      "cell_type": "code",
      "execution_count": null,
      "metadata": {
        "colab": {
          "base_uri": "https://localhost:8080/"
        },
        "id": "uFn9vs2CwBqt",
        "outputId": "852933eb-b2a0-4cfd-f053-7ee27f4d3ee5"
      },
      "outputs": [
        {
          "name": "stdout",
          "output_type": "stream",
          "text": [
            "A is less than equal to B\n"
          ]
        }
      ],
      "source": [
        "a=33\n",
        "b=43\n",
        "if a<=b:\n",
        "  print(\"A is less than equal to B\")"
      ]
    },
    {
      "cell_type": "code",
      "execution_count": null,
      "metadata": {
        "colab": {
          "base_uri": "https://localhost:8080/"
        },
        "id": "vsWl-35RwcYV",
        "outputId": "c189201f-af66-41bc-d6db-696efae15443"
      },
      "outputs": [
        {
          "name": "stdout",
          "output_type": "stream",
          "text": [
            "A is greater than equal to B\n"
          ]
        }
      ],
      "source": [
        "a=54\n",
        "b=33\n",
        "if a>=b:\n",
        "  print(\"A is greater than equal to B\")"
      ]
    },
    {
      "cell_type": "code",
      "execution_count": null,
      "metadata": {
        "colab": {
          "base_uri": "https://localhost:8080/"
        },
        "id": "YQZucsQHwpam",
        "outputId": "639451a5-bb28-4400-ea2c-3c1e26553831"
      },
      "outputs": [
        {
          "name": "stdout",
          "output_type": "stream",
          "text": [
            "A is greater than to B\n"
          ]
        }
      ],
      "source": [
        "a=54\n",
        "b=22\n",
        "if a>b:\n",
        "  print(\"A is greater than to B\")"
      ]
    },
    {
      "cell_type": "code",
      "execution_count": null,
      "metadata": {
        "colab": {
          "base_uri": "https://localhost:8080/"
        },
        "id": "jcAm-qafwwj7",
        "outputId": "29084b5e-2309-4f0c-eb21-8378bd346310"
      },
      "outputs": [
        {
          "name": "stdout",
          "output_type": "stream",
          "text": [
            "You are a minor\n"
          ]
        }
      ],
      "source": [
        "age=15\n",
        "if age<18:\n",
        "  print(\"You are a minor\")\n",
        "elif age==18:\n",
        "  print(\"You are just an adult\")\n",
        "else:\n",
        "  print(\"You are an adult\")\n",
        "\n"
      ]
    },
    {
      "cell_type": "code",
      "execution_count": null,
      "metadata": {
        "colab": {
          "base_uri": "https://localhost:8080/"
        },
        "id": "kqoqgFcLytnI",
        "outputId": "45a220ba-6998-4068-df20-4fbdb6261869"
      },
      "outputs": [
        {
          "name": "stdout",
          "output_type": "stream",
          "text": [
            "You are an adult\n"
          ]
        }
      ],
      "source": [
        "age=34\n",
        "if age<18:\n",
        "  print(\"You are a minor\")\n",
        "elif age==18:\n",
        "  print(\"You are just an adult\")\n",
        "else:\n",
        "  print(\"You are an adult\")"
      ]
    },
    {
      "cell_type": "code",
      "execution_count": null,
      "metadata": {
        "colab": {
          "base_uri": "https://localhost:8080/"
        },
        "id": "v20iyxCUy1HH",
        "outputId": "25e93100-fab3-4cd0-c3ec-8b8a2683576d"
      },
      "outputs": [
        {
          "name": "stdout",
          "output_type": "stream",
          "text": [
            "You are just an adult\n"
          ]
        }
      ],
      "source": [
        "age=18\n",
        "if age<18:\n",
        "  print(\"You are a minor\")\n",
        "elif age==18:\n",
        "  print(\"You are just an adult\")\n",
        "else:\n",
        "  print(\"You are an adult\")"
      ]
    },
    {
      "cell_type": "code",
      "execution_count": null,
      "metadata": {
        "colab": {
          "base_uri": "https://localhost:8080/"
        },
        "id": "U3ZGl8MozDfd",
        "outputId": "0eb3f351-fff0-4c54-9cb8-c0a357f7339f"
      },
      "outputs": [
        {
          "name": "stdout",
          "output_type": "stream",
          "text": [
            "You are not eligible\n"
          ]
        }
      ],
      "source": [
        "a=22\n",
        "if a>=20:\n",
        "  print(\"You are not eligible\")\n",
        "elif a>=23:\n",
        "  print(\"You are eligible\")\n",
        "else:\n",
        "  print(\"Your Welcome\")\n",
        "\n"
      ]
    },
    {
      "cell_type": "code",
      "execution_count": null,
      "metadata": {
        "id": "Xc2pheEOG1rI"
      },
      "outputs": [],
      "source": [
        "# 1st question is take any value and check whether it is odd and even with if and else condition and do minimum 3 examples with different number:-"
      ]
    },
    {
      "cell_type": "code",
      "execution_count": null,
      "metadata": {
        "colab": {
          "base_uri": "https://localhost:8080/"
        },
        "id": "OSG3yct-HgON",
        "outputId": "de75dba3-35d7-4ef6-b0d2-40796b965c99"
      },
      "outputs": [
        {
          "name": "stdout",
          "output_type": "stream",
          "text": [
            "It is odd\n"
          ]
        }
      ],
      "source": [
        "x=125\n",
        "if x%2==0:\n",
        "  print(\"It is Even\")\n",
        "else:\n",
        "  print('It is odd')"
      ]
    },
    {
      "cell_type": "code",
      "execution_count": null,
      "metadata": {
        "colab": {
          "base_uri": "https://localhost:8080/"
        },
        "id": "n_ezM0TJHtgu",
        "outputId": "aad00041-cf10-476e-8107-a879d5a5715d"
      },
      "outputs": [
        {
          "name": "stdout",
          "output_type": "stream",
          "text": [
            "It is Even\n"
          ]
        }
      ],
      "source": [
        "# Eg-1\n",
        "x=256\n",
        "if x%2==0:\n",
        "  print(\"It is Even\")\n",
        "else:\n",
        "  print('It is odd')"
      ]
    },
    {
      "cell_type": "code",
      "execution_count": null,
      "metadata": {
        "colab": {
          "base_uri": "https://localhost:8080/"
        },
        "id": "jTm-oWgkHyxO",
        "outputId": "51f16ed0-4b1d-407b-cc98-4c064486827c"
      },
      "outputs": [
        {
          "name": "stdout",
          "output_type": "stream",
          "text": [
            "It is Even\n"
          ]
        }
      ],
      "source": [
        "# Eg-2\n",
        "x=24\n",
        "if x%2==0:\n",
        "  print(\"It is Even\")\n",
        "else:\n",
        "  print('It is odd')"
      ]
    },
    {
      "cell_type": "code",
      "execution_count": null,
      "metadata": {
        "colab": {
          "base_uri": "https://localhost:8080/"
        },
        "id": "iNaXkG1JIPys",
        "outputId": "20319044-7e3d-4b8f-b6cf-985b78993679"
      },
      "outputs": [
        {
          "name": "stdout",
          "output_type": "stream",
          "text": [
            "It is odd\n"
          ]
        }
      ],
      "source": [
        "# Eg-3\n",
        "x=1023\n",
        "if x%2==0:\n",
        "  print(\"It is Even\")\n",
        "else:\n",
        "  print('It is odd')"
      ]
    },
    {
      "cell_type": "code",
      "execution_count": null,
      "metadata": {
        "id": "ufkzTsvXIWdx"
      },
      "outputs": [],
      "source": [
        "# 2nd question is take any value if value is greater than 40(A grade),greater than 30(B grade), greater than 20(C grade) otherwise fail\n",
        "# You can take any number other than grading values. Do atleast 2 examples."
      ]
    },
    {
      "cell_type": "code",
      "execution_count": null,
      "metadata": {
        "colab": {
          "base_uri": "https://localhost:8080/"
        },
        "id": "NW0sgbZEJx4I",
        "outputId": "e8c95817-9752-4414-8b23-68faa06378d0"
      },
      "outputs": [
        {
          "name": "stdout",
          "output_type": "stream",
          "text": [
            "A\n"
          ]
        }
      ],
      "source": [
        "a=50\n",
        "if a>40:\n",
        "  print(\"A\")\n",
        "elif a>30:\n",
        "  print(\"B\")\n",
        "elif a>20:\n",
        "  print(\"C\")\n",
        "else:\n",
        "  print(\"Fail\")"
      ]
    },
    {
      "cell_type": "code",
      "execution_count": null,
      "metadata": {
        "colab": {
          "base_uri": "https://localhost:8080/"
        },
        "id": "S4VAcyYQKaZi",
        "outputId": "d51e1d6f-1e73-420f-d6ff-b85e3d8b2f8d"
      },
      "outputs": [
        {
          "name": "stdout",
          "output_type": "stream",
          "text": [
            "B\n"
          ]
        }
      ],
      "source": [
        "# Eg-1\n",
        "a=35\n",
        "if a>40:\n",
        "  print(\"A\")\n",
        "elif a>30:\n",
        "  print(\"B\")\n",
        "elif a>20:\n",
        "  print(\"C\")\n",
        "else:\n",
        "  print(\"Fail\")"
      ]
    },
    {
      "cell_type": "code",
      "execution_count": null,
      "metadata": {
        "colab": {
          "base_uri": "https://localhost:8080/"
        },
        "id": "cfRGq78dKjKF",
        "outputId": "2d7a12c7-6cdf-47f8-fff7-6da7115e74a1"
      },
      "outputs": [
        {
          "name": "stdout",
          "output_type": "stream",
          "text": [
            "Fail\n"
          ]
        }
      ],
      "source": [
        "# Eg-2\n",
        "a=10\n",
        "if a>40:\n",
        "  print(\"A\")\n",
        "elif a>30:\n",
        "  print(\"B\")\n",
        "elif a>20:\n",
        "  print(\"C\")\n",
        "else:\n",
        "  print(\"Fail\")"
      ]
    },
    {
      "cell_type": "code",
      "execution_count": null,
      "metadata": {
        "colab": {
          "base_uri": "https://localhost:8080/"
        },
        "id": "Mph0lOCyKs4m",
        "outputId": "b3d22290-e96a-4e59-a027-2a9e2cda0080"
      },
      "outputs": [
        {
          "name": "stdout",
          "output_type": "stream",
          "text": [
            "C\n"
          ]
        }
      ],
      "source": [
        "# Eg-3\n",
        "a=28\n",
        "if a>40:\n",
        "  print(\"A\")\n",
        "elif a>30:\n",
        "  print(\"B\")\n",
        "elif a>20:\n",
        "  print(\"C\")\n",
        "else:\n",
        "  print(\"Fail\")"
      ]
    },
    {
      "cell_type": "code",
      "execution_count": null,
      "metadata": {
        "colab": {
          "base_uri": "https://localhost:8080/"
        },
        "id": "MHGeneyXKx19",
        "outputId": "5f51a411-e10e-4c60-d8bb-a8335d692ba3"
      },
      "outputs": [
        {
          "name": "stdout",
          "output_type": "stream",
          "text": [
            "Enter a no:-77\n",
            "It is odd\n"
          ]
        }
      ],
      "source": [
        "n=int(input(\"Enter a no:-\" ))\n",
        "x=n%2\n",
        "if x==0:\n",
        "  print(\"It is Even\")\n",
        "else:\n",
        "  print('It is odd')\n"
      ]
    },
    {
      "cell_type": "code",
      "execution_count": null,
      "metadata": {
        "colab": {
          "base_uri": "https://localhost:8080/"
        },
        "id": "WgZo8qqd7LBs",
        "outputId": "62354f20-88db-4c8c-f05a-f2c6d07acdcc"
      },
      "outputs": [
        {
          "name": "stdout",
          "output_type": "stream",
          "text": [
            "Enter a No:-24\n",
            "It is even\n"
          ]
        }
      ],
      "source": [
        "num=int(input(\"Enter a No:-\"))\n",
        "if (num%2)==0:\n",
        "  print(\"It is even\")\n",
        "elif (num%2)!=0:\n",
        "  print(\"Not defined\")\n",
        "else:\n",
        "  print(\"It is odd\")"
      ]
    },
    {
      "cell_type": "code",
      "execution_count": null,
      "metadata": {
        "id": "AxveBNPv89id"
      },
      "outputs": [],
      "source": [
        "# Nested IF"
      ]
    },
    {
      "cell_type": "code",
      "execution_count": null,
      "metadata": {
        "colab": {
          "base_uri": "https://localhost:8080/"
        },
        "id": "Q_-NOHRo98tn",
        "outputId": "cbd46b48-5ca2-4d39-babd-d4cb26c9ba99"
      },
      "outputs": [
        {
          "name": "stdout",
          "output_type": "stream",
          "text": [
            "No. is Negative\n"
          ]
        }
      ],
      "source": [
        "num=0\n",
        "\n",
        "#Outer if statement\n",
        "if num>0:\n",
        "  #Unner if statement\n",
        "  if num==0:\n",
        "    print(\"No. is 0\")\n",
        "  else:\n",
        "    print(\"No.is Positive\")\n",
        "else:\n",
        "    print(\"No. is Negative\")"
      ]
    },
    {
      "cell_type": "code",
      "execution_count": null,
      "metadata": {
        "id": "uhAQBZiq-W_O"
      },
      "outputs": [],
      "source": [
        "# Q Write a program to check whether the given year is leap year or not"
      ]
    },
    {
      "cell_type": "code",
      "execution_count": null,
      "metadata": {
        "colab": {
          "base_uri": "https://localhost:8080/"
        },
        "id": "NVCoq8mrAl9C",
        "outputId": "36ad5b25-9c5f-46ae-e4ee-2ed7195ff404"
      },
      "outputs": [
        {
          "name": "stdout",
          "output_type": "stream",
          "text": [
            "Enter a year:-300\n",
            "Not a leap year\n"
          ]
        }
      ],
      "source": [
        "year=int(input(\"Enter a year:-\"))\n",
        "if (year%400)==0:\n",
        "  print(\"Leap Year\")\n",
        "else:\n",
        "  print(\"Not a leap year\")\n"
      ]
    },
    {
      "cell_type": "code",
      "execution_count": null,
      "metadata": {
        "colab": {
          "base_uri": "https://localhost:8080/"
        },
        "id": "Tf-XhuEiCccn",
        "outputId": "2573a2c5-138b-4591-fc5b-1e0b98623028"
      },
      "outputs": [
        {
          "name": "stdout",
          "output_type": "stream",
          "text": [
            "Enter  year:-1600\n",
            "Year is a leap year\n"
          ]
        }
      ],
      "source": [
        "a=int(input(\"Enter  year:-\"))\n",
        "if (a%4==0 and a%100!=0) or a%400==0:\n",
        "  print(\"Year is a leap year\")\n",
        "else:\n",
        "  print(\"Not a Leap year\")\n"
      ]
    },
    {
      "cell_type": "code",
      "execution_count": null,
      "metadata": {
        "colab": {
          "base_uri": "https://localhost:8080/"
        },
        "id": "FqNIzmnkGauz",
        "outputId": "8e9b709b-b5eb-4929-b6f8-fc2ffc898207"
      },
      "outputs": [
        {
          "name": "stdout",
          "output_type": "stream",
          "text": [
            "Enter your Name:-divya\n",
            "Hello,divya!\n"
          ]
        }
      ],
      "source": [
        "name=input(\"Enter your Name:-\")\n",
        "print(\"Hello,\"+name+\"!\")"
      ]
    },
    {
      "cell_type": "code",
      "execution_count": null,
      "metadata": {
        "colab": {
          "base_uri": "https://localhost:8080/"
        },
        "id": "X3gAzVFLLx_r",
        "outputId": "96b56dd9-6a2d-407c-8369-b667f2e1f0c9"
      },
      "outputs": [
        {
          "name": "stdout",
          "output_type": "stream",
          "text": [
            "Enter your Name:-VANSHIKA\n",
            "Hello,VANSHIKA!\n"
          ]
        }
      ],
      "source": [
        "name=input(\"Enter your Name:-\")\n",
        "print(\"Hello,\"+name+\"!\")"
      ]
    },
    {
      "cell_type": "code",
      "execution_count": null,
      "metadata": {
        "colab": {
          "base_uri": "https://localhost:8080/"
        },
        "id": "-4_ZLBxNL81u",
        "outputId": "636ac180-f317-4b91-a830-5086d13fcebe"
      },
      "outputs": [
        {
          "name": "stdout",
          "output_type": "stream",
          "text": [
            "Enter Year:-2024\n",
            "2024 !\n"
          ]
        }
      ],
      "source": [
        "\n",
        "ear=int(input(\"Enter Year:-\"))\n",
        "print(+year,\"!\")"
      ]
    },
    {
      "cell_type": "code",
      "execution_count": null,
      "metadata": {
        "colab": {
          "base_uri": "https://localhost:8080/"
        },
        "id": "3HeRgz7XNDHo",
        "outputId": "c803cc43-38cc-466e-bd47-c90854d2f5ec"
      },
      "outputs": [
        {
          "name": "stdout",
          "output_type": "stream",
          "text": [
            "enter a year:-1600\n",
            "1600 is not a leap year.\n"
          ]
        }
      ],
      "source": [
        "year=int(input(\"enter a year:-\"))\n",
        "if (year%4==0 and year % 100!=0):\n",
        "  print(f\"{year} is a leap year.\" )\n",
        "else:\n",
        "  print(f\"{year} is not a leap year.\" )"
      ]
    },
    {
      "cell_type": "code",
      "execution_count": null,
      "metadata": {
        "id": "gGsCcdIGQkHD"
      },
      "outputs": [],
      "source": [
        "# For Loop\n"
      ]
    },
    {
      "cell_type": "code",
      "execution_count": null,
      "metadata": {
        "colab": {
          "base_uri": "https://localhost:8080/"
        },
        "id": "Ad1i7lkjye4K",
        "outputId": "bbe17c39-1d79-425b-87f0-0d5eebad08a8"
      },
      "outputs": [
        {
          "name": "stdout",
          "output_type": "stream",
          "text": [
            "Apple\n",
            "Banana\n",
            "Cherry\n"
          ]
        }
      ],
      "source": [
        "fruits=[\"Apple\",\"Banana\",\"Cherry\"]\n",
        "for fruit in fruits:\n",
        "  print(fruit)"
      ]
    },
    {
      "cell_type": "code",
      "execution_count": null,
      "metadata": {
        "colab": {
          "base_uri": "https://localhost:8080/"
        },
        "id": "DC6i1-JQy33B",
        "outputId": "5c30cf2a-b17d-4172-f2ab-f8c19529900d"
      },
      "outputs": [
        {
          "name": "stdout",
          "output_type": "stream",
          "text": [
            "Divya\n",
            "Vanshika\n",
            "Tushti\n",
            "Mayank\n",
            "Suneet\n"
          ]
        }
      ],
      "source": [
        "names=[\"Divya\",\"Vanshika\",\"Tushti\",\"Mayank\",\"Suneet\"]\n",
        "for name in names:\n",
        "  print(name)"
      ]
    },
    {
      "cell_type": "code",
      "execution_count": null,
      "metadata": {
        "colab": {
          "base_uri": "https://localhost:8080/"
        },
        "id": "aPPzDg0izSBb",
        "outputId": "6a59c643-20d9-40a8-edc4-649a99ca8c6b"
      },
      "outputs": [
        {
          "name": "stdout",
          "output_type": "stream",
          "text": [
            "0\n",
            "1\n",
            "2\n",
            "3\n",
            "4\n"
          ]
        }
      ],
      "source": [
        "for i in range(5):\n",
        " print(i)"
      ]
    },
    {
      "cell_type": "code",
      "execution_count": null,
      "metadata": {
        "colab": {
          "base_uri": "https://localhost:8080/"
        },
        "id": "uFeaLaB20WEJ",
        "outputId": "df0d44a3-8fd9-4989-9852-f2aa09c8e2ed"
      },
      "outputs": [
        {
          "name": "stdout",
          "output_type": "stream",
          "text": [
            "0\n",
            "1\n",
            "2\n",
            "3\n",
            "4\n",
            "5\n",
            "6\n",
            "7\n",
            "8\n",
            "9\n",
            "10\n",
            "11\n",
            "12\n",
            "13\n",
            "14\n",
            "15\n",
            "16\n",
            "17\n",
            "18\n",
            "19\n",
            "20\n",
            "21\n",
            "22\n",
            "23\n",
            "24\n",
            "25\n",
            "26\n",
            "27\n",
            "28\n",
            "29\n",
            "30\n",
            "31\n",
            "32\n",
            "33\n",
            "34\n",
            "35\n",
            "36\n",
            "37\n",
            "38\n",
            "39\n",
            "40\n",
            "41\n",
            "42\n",
            "43\n",
            "44\n",
            "45\n",
            "46\n",
            "47\n",
            "48\n",
            "49\n"
          ]
        }
      ],
      "source": [
        "for i in range(50):\n",
        " print(i)"
      ]
    },
    {
      "cell_type": "code",
      "execution_count": null,
      "metadata": {
        "colab": {
          "base_uri": "https://localhost:8080/"
        },
        "id": "aVMCqWt60jju",
        "outputId": "036ce78e-1447-459e-f3c3-cc2720930ec6"
      },
      "outputs": [
        {
          "name": "stdout",
          "output_type": "stream",
          "text": [
            "V\n",
            "a\n",
            "n\n",
            "s\n",
            "h\n",
            "i\n",
            "k\n",
            "a\n"
          ]
        }
      ],
      "source": [
        "for letter in \"Vanshika\":\n",
        "  print(letter)\n"
      ]
    },
    {
      "cell_type": "code",
      "execution_count": null,
      "metadata": {
        "colab": {
          "base_uri": "https://localhost:8080/"
        },
        "id": "IFB768j91PNu",
        "outputId": "aabe1acd-cffa-4cb3-f9bf-ab4425e19d15"
      },
      "outputs": [
        {
          "name": "stdout",
          "output_type": "stream",
          "text": [
            "P\n",
            "y\n",
            "t\n",
            "h\n",
            "o\n",
            "n\n"
          ]
        }
      ],
      "source": [
        "for letter in \"Python\":\n",
        "  print(letter)"
      ]
    },
    {
      "cell_type": "code",
      "execution_count": null,
      "metadata": {
        "id": "DysGDTW61XXm"
      },
      "outputs": [],
      "source": [
        "# While Loop"
      ]
    },
    {
      "cell_type": "code",
      "execution_count": null,
      "metadata": {
        "colab": {
          "base_uri": "https://localhost:8080/"
        },
        "id": "-U4PBj2g1ggF",
        "outputId": "f52b98ca-0ad1-433c-9c44-26de5b257cc3"
      },
      "outputs": [
        {
          "name": "stdout",
          "output_type": "stream",
          "text": [
            "0\n",
            "1\n",
            "2\n",
            "3\n",
            "4\n"
          ]
        }
      ],
      "source": [
        "count=0\n",
        "while count<5:\n",
        "  print(count)\n",
        "  count += 1\n"
      ]
    },
    {
      "cell_type": "code",
      "execution_count": null,
      "metadata": {
        "colab": {
          "base_uri": "https://localhost:8080/"
        },
        "id": "9QYi_ngj2jPg",
        "outputId": "3cba715c-42f9-43f6-a8ab-2a646f8641e1"
      },
      "outputs": [
        {
          "name": "stdout",
          "output_type": "stream",
          "text": [
            "5\n",
            "7\n",
            "9\n",
            "11\n",
            "13\n",
            "15\n",
            "17\n",
            "19\n"
          ]
        }
      ],
      "source": [
        "count=5\n",
        "while count<=20:\n",
        "  print(count)\n",
        "  count += 2\n"
      ]
    },
    {
      "cell_type": "code",
      "execution_count": null,
      "metadata": {
        "id": "Ge0JvMYY2vjk"
      },
      "outputs": [],
      "source": [
        "# Sum of a list\n"
      ]
    },
    {
      "cell_type": "code",
      "execution_count": null,
      "metadata": {
        "colab": {
          "base_uri": "https://localhost:8080/"
        },
        "id": "bt-XQzT8M28n",
        "outputId": "8272add4-9e95-4fb2-c703-5da884e3970f"
      },
      "outputs": [
        {
          "name": "stdout",
          "output_type": "stream",
          "text": [
            "227\n"
          ]
        }
      ],
      "source": [
        "x=[21,32,43,54,43,34]\n",
        "sum=0\n",
        "for i in x:\n",
        "  sum += i\n",
        "print(sum)\n"
      ]
    },
    {
      "cell_type": "code",
      "execution_count": null,
      "metadata": {
        "colab": {
          "base_uri": "https://localhost:8080/"
        },
        "id": "xeoJY-70PUKd",
        "outputId": "6c2af855-5a87-4ef4-d9ef-ab8ee83092e2"
      },
      "outputs": [
        {
          "name": "stdout",
          "output_type": "stream",
          "text": [
            "0\n",
            "2\n",
            "4\n",
            "6\n",
            "8\n",
            "10\n"
          ]
        }
      ],
      "source": [
        "i=0\n",
        "while i <=10:\n",
        "  print(i)\n",
        "  i=i+2"
      ]
    },
    {
      "cell_type": "code",
      "execution_count": null,
      "metadata": {
        "colab": {
          "base_uri": "https://localhost:8080/"
        },
        "id": "uTkBrK0fiXwd",
        "outputId": "da44117b-c700-4a85-9416-c144c5583558"
      },
      "outputs": [
        {
          "name": "stdout",
          "output_type": "stream",
          "text": [
            "1\n",
            "3\n",
            "5\n",
            "7\n",
            "9\n"
          ]
        }
      ],
      "source": [
        "i=1\n",
        "while i<=10:\n",
        "  print(i)\n",
        "  i+=2"
      ]
    },
    {
      "cell_type": "code",
      "execution_count": null,
      "metadata": {
        "id": "3wjctn0Uit5O"
      },
      "outputs": [],
      "source": [
        "# write the program to find sum of n natural numbers"
      ]
    },
    {
      "cell_type": "code",
      "execution_count": null,
      "metadata": {
        "colab": {
          "base_uri": "https://localhost:8080/"
        },
        "id": "el8ZgyyJjTET",
        "outputId": "b830d1ae-0774-422b-a15d-757721a55a94"
      },
      "outputs": [
        {
          "name": "stdout",
          "output_type": "stream",
          "text": [
            "Enter a no12\n",
            "78\n"
          ]
        }
      ],
      "source": [
        "n=int(input('Enter a no'))\n",
        "sum=0\n",
        "for i in range(1,n+1):\n",
        "   sum+=i\n",
        "print(sum)\n"
      ]
    },
    {
      "cell_type": "code",
      "execution_count": null,
      "metadata": {
        "colab": {
          "base_uri": "https://localhost:8080/"
        },
        "id": "BwzjNS9qlcRP",
        "outputId": "df68e038-320c-4447-972c-1a922670672b"
      },
      "outputs": [
        {
          "name": "stdout",
          "output_type": "stream",
          "text": [
            "Enter last limit no.:-4\n",
            "Sum of n natural no. 1\n",
            "Sum of n natural no. 3\n",
            "Sum of n natural no. 6\n",
            "Sum of n natural no. 10\n"
          ]
        }
      ],
      "source": [
        "n=int(input('Enter last limit no.:-'))\n",
        "i=1\n",
        "sum=0\n",
        "while i<=n:\n",
        "  sum=sum +i\n",
        "  i= i+1\n",
        "  print(\"Sum of n natural no.\",sum)\n"
      ]
    },
    {
      "cell_type": "code",
      "execution_count": null,
      "metadata": {
        "id": "hazDJPlfmY_0"
      },
      "outputs": [],
      "source": [
        "# write the program to find sum of Square of n natural numbers"
      ]
    },
    {
      "cell_type": "code",
      "execution_count": null,
      "metadata": {
        "colab": {
          "base_uri": "https://localhost:8080/"
        },
        "id": "r1flcX9Fn8_d",
        "outputId": "d49f77b0-48bc-4c03-d46d-0f8c73afd62d"
      },
      "outputs": [
        {
          "name": "stdout",
          "output_type": "stream",
          "text": [
            "Enter last limit no.:-4\n",
            "Sum of n natural no. 16\n"
          ]
        }
      ],
      "source": [
        "n=int(input('Enter last limit no.:-'))\n",
        "i=n*n\n",
        "sum=0\n",
        "while i<=n*n:\n",
        "  sum=sum +i\n",
        "  i= i+1\n",
        "  print(\"Sum of n natural no.\",sum)\n"
      ]
    },
    {
      "cell_type": "code",
      "execution_count": null,
      "metadata": {
        "id": "ejsRrKJLoKsL"
      },
      "outputs": [],
      "source": [
        "# write the program to find sum of Cube of n natural numbers"
      ]
    },
    {
      "cell_type": "code",
      "execution_count": null,
      "metadata": {
        "colab": {
          "base_uri": "https://localhost:8080/"
        },
        "id": "94zVdBfmoo0l",
        "outputId": "59aa08d6-8089-4d14-f4a8-a6635cb415e4"
      },
      "outputs": [
        {
          "name": "stdout",
          "output_type": "stream",
          "text": [
            "Enter last limit no.:-4\n",
            "Sum of n natural no. 64\n"
          ]
        }
      ],
      "source": [
        "n=int(input('Enter last limit no.:-'))\n",
        "i=n*n*n\n",
        "sum=0\n",
        "while i<=n*n*n:\n",
        "  sum=sum +i\n",
        "  i= i+1\n",
        "  print(\"Sum of n natural no.\",sum)\n"
      ]
    },
    {
      "cell_type": "code",
      "execution_count": null,
      "metadata": {
        "id": "J3YYEHRmo3hn"
      },
      "outputs": [],
      "source": [
        "# Break statement- We can stop the loop even if the while condition is"
      ]
    },
    {
      "cell_type": "code",
      "execution_count": null,
      "metadata": {
        "colab": {
          "base_uri": "https://localhost:8080/"
        },
        "id": "ASTmT4h0hr_3",
        "outputId": "585294e3-3161-4860-a324-b7571a895272"
      },
      "outputs": [
        {
          "name": "stdout",
          "output_type": "stream",
          "text": [
            "1\n",
            "2\n",
            "3\n",
            "4\n"
          ]
        }
      ],
      "source": [
        "i = 1\n",
        "while i<10:\n",
        "  print(i)\n",
        "  if i==4:\n",
        "    break\n",
        "  i+=1"
      ]
    },
    {
      "cell_type": "code",
      "execution_count": null,
      "metadata": {
        "id": "bJJzN4wGjjCL"
      },
      "outputs": [],
      "source": [
        "# continue"
      ]
    },
    {
      "cell_type": "code",
      "execution_count": null,
      "metadata": {
        "colab": {
          "base_uri": "https://localhost:8080/"
        },
        "id": "DQIkGx3_j7A5",
        "outputId": "e253aa1a-1864-4f2c-b9eb-b9fac45d2fd7"
      },
      "outputs": [
        {
          "name": "stdout",
          "output_type": "stream",
          "text": [
            "2\n",
            "3\n",
            "5\n",
            "6\n",
            "7\n",
            "8\n",
            "9\n",
            "10\n"
          ]
        }
      ],
      "source": [
        "i = 1\n",
        "while i<10:\n",
        "  i+=1\n",
        "  if i==4:\n",
        "    continue\n",
        "  print(i)"
      ]
    },
    {
      "cell_type": "code",
      "execution_count": null,
      "metadata": {
        "colab": {
          "base_uri": "https://localhost:8080/"
        },
        "id": "JRWrU_7MlVVv",
        "outputId": "c641b9dd-249e-44f1-ea14-798e77fd3c9c"
      },
      "outputs": [
        {
          "name": "stdout",
          "output_type": "stream",
          "text": [
            "3\n",
            "4\n",
            "6\n",
            "7\n",
            "8\n",
            "9\n",
            "10\n"
          ]
        }
      ],
      "source": [
        "i = 2\n",
        "while i<10:\n",
        "  i+=1\n",
        "  if i==5:\n",
        "    continue\n",
        "  print(i)"
      ]
    },
    {
      "cell_type": "code",
      "execution_count": null,
      "metadata": {
        "colab": {
          "base_uri": "https://localhost:8080/"
        },
        "id": "jeXMlR2fmQXw",
        "outputId": "a2d28a62-5772-4c01-db7b-565524e7c3a7"
      },
      "outputs": [
        {
          "name": "stdout",
          "output_type": "stream",
          "text": [
            "6\n",
            "7\n",
            "9\n",
            "10\n"
          ]
        }
      ],
      "source": [
        "i = 5\n",
        "while i<10:\n",
        "  i+=1\n",
        "  if i==8:\n",
        "    continue\n",
        "  print(i)"
      ]
    },
    {
      "cell_type": "code",
      "execution_count": null,
      "metadata": {
        "colab": {
          "base_uri": "https://localhost:8080/"
        },
        "id": "k8wTgCIGmkb3",
        "outputId": "e67fc6b3-13bd-4c2f-8404-54d0d625d30c"
      },
      "outputs": [
        {
          "name": "stdout",
          "output_type": "stream",
          "text": [
            "1\n",
            "2\n",
            "3\n",
            "4\n",
            "6\n",
            "7\n",
            "9\n",
            "10\n"
          ]
        }
      ],
      "source": [
        "i = 0\n",
        "while i<10:\n",
        "  i+=1\n",
        "  if i==5:\n",
        "    continue\n",
        "  elif i==8:\n",
        "    continue\n",
        "  print(i)"
      ]
    },
    {
      "cell_type": "code",
      "execution_count": null,
      "metadata": {
        "colab": {
          "base_uri": "https://localhost:8080/"
        },
        "id": "HBG1knZjn5AS",
        "outputId": "f70c44a1-a839-403d-f22a-b5d54787b6da"
      },
      "outputs": [
        {
          "name": "stdout",
          "output_type": "stream",
          "text": [
            "A\n",
            "B\n"
          ]
        }
      ],
      "source": [
        "L1=[\"A\",\"B\",\"C\",\"D\"]\n",
        "for x in L1:\n",
        "  print(x)\n",
        "  if x==\"B\":\n",
        "    break"
      ]
    },
    {
      "cell_type": "code",
      "execution_count": null,
      "metadata": {
        "colab": {
          "base_uri": "https://localhost:8080/"
        },
        "id": "p504rx9Jn5iI",
        "outputId": "cc98896f-6e77-4aea-a670-610f56dede58"
      },
      "outputs": [
        {
          "name": "stdout",
          "output_type": "stream",
          "text": [
            "A\n"
          ]
        }
      ],
      "source": [
        "# Exit the loop when X is \"B\",But this time break comes before the print:\n",
        "L1=[\"A\",\"B\",\"C\",\"D\"]\n",
        "for x in L1:\n",
        "  if x==\"B\":\n",
        "    break\n",
        "  print(x)"
      ]
    },
    {
      "cell_type": "code",
      "execution_count": null,
      "metadata": {
        "colab": {
          "base_uri": "https://localhost:8080/"
        },
        "id": "FZ77ADKIn6oC",
        "outputId": "fc7f1adc-59ff-4d5a-8c64-c3b23a362f37"
      },
      "outputs": [
        {
          "name": "stdout",
          "output_type": "stream",
          "text": [
            "A\n",
            "B\n",
            "C\n",
            "D\n"
          ]
        }
      ],
      "source": [
        "L1=[\"A\",\"B\",\"C\",\"D\"]\n",
        "for x in L1:\n",
        "  print(x)"
      ]
    },
    {
      "cell_type": "code",
      "execution_count": null,
      "metadata": {
        "colab": {
          "base_uri": "https://localhost:8080/"
        },
        "id": "re_BjfyKqd-7",
        "outputId": "819eb21e-c238-411e-9b37-2a53f6de6232"
      },
      "outputs": [
        {
          "name": "stdout",
          "output_type": "stream",
          "text": [
            "A\n",
            "A\n",
            "F\n",
            "T\n"
          ]
        }
      ],
      "source": [
        "for x in \"AAFT\":\n",
        "  print(x)\n"
      ]
    },
    {
      "cell_type": "code",
      "execution_count": null,
      "metadata": {
        "colab": {
          "base_uri": "https://localhost:8080/"
        },
        "id": "D5HJIxExqeXw",
        "outputId": "abf6a0d1-8955-4fc6-92de-d1bdeef8c9e1"
      },
      "outputs": [
        {
          "name": "stdout",
          "output_type": "stream",
          "text": [
            "A\n",
            "C\n",
            "D\n"
          ]
        }
      ],
      "source": [
        "# Continue Statement\n",
        "L1=[\"A\",\"B\",\"C\",\"D\"]\n",
        "for x in L1:\n",
        "  if x==\"B\":\n",
        "    continue\n",
        "  print(x)"
      ]
    },
    {
      "cell_type": "code",
      "execution_count": null,
      "metadata": {
        "id": "LDGJF3K8qezQ"
      },
      "outputs": [],
      "source": [
        "# range() function"
      ]
    },
    {
      "cell_type": "code",
      "execution_count": null,
      "metadata": {
        "colab": {
          "base_uri": "https://localhost:8080/"
        },
        "id": "xfqsZ4AWqevT",
        "outputId": "4870e0fe-0008-4b18-bee2-41bd496b486e"
      },
      "outputs": [
        {
          "name": "stdout",
          "output_type": "stream",
          "text": [
            "2\n",
            "3\n",
            "4\n",
            "5\n",
            "6\n",
            "7\n",
            "8\n",
            "9\n",
            "10\n"
          ]
        }
      ],
      "source": [
        "for x in range(2,11):\n",
        "  print(x)"
      ]
    },
    {
      "cell_type": "code",
      "execution_count": null,
      "metadata": {
        "colab": {
          "base_uri": "https://localhost:8080/"
        },
        "id": "DL8xpREPtfmx",
        "outputId": "2aeb194b-75e4-4e61-b147-c939cebe0d49"
      },
      "outputs": [
        {
          "name": "stdout",
          "output_type": "stream",
          "text": [
            "2\n",
            "3\n",
            "4\n",
            "5\n"
          ]
        }
      ],
      "source": [
        "for x in range(2,6):\n",
        "  print(x)"
      ]
    },
    {
      "cell_type": "code",
      "execution_count": null,
      "metadata": {
        "colab": {
          "base_uri": "https://localhost:8080/"
        },
        "id": "upu89S3RtgEF",
        "outputId": "6878a00c-244c-4043-dd40-2d44852d745b"
      },
      "outputs": [
        {
          "name": "stdout",
          "output_type": "stream",
          "text": [
            "2\n",
            "4\n",
            "6\n",
            "8\n",
            "10\n",
            "12\n",
            "14\n",
            "16\n",
            "18\n",
            "20\n",
            "22\n",
            "24\n",
            "26\n",
            "28\n"
          ]
        }
      ],
      "source": [
        "for x in range(2,30,2):\n",
        "  print(x)"
      ]
    },
    {
      "cell_type": "code",
      "execution_count": null,
      "metadata": {
        "colab": {
          "base_uri": "https://localhost:8080/"
        },
        "id": "jmPGCp5Stvan",
        "outputId": "9b2e452a-1c5f-46e6-998f-44aadd1e7139"
      },
      "outputs": [
        {
          "name": "stdout",
          "output_type": "stream",
          "text": [
            "10\n",
            "9\n",
            "8\n",
            "7\n",
            "6\n",
            "5\n",
            "4\n",
            "3\n",
            "2\n",
            "1\n"
          ]
        }
      ],
      "source": [
        "i=10\n",
        "while i>0:\n",
        "  print(i)\n",
        "  i=i-1"
      ]
    },
    {
      "cell_type": "code",
      "execution_count": null,
      "metadata": {
        "colab": {
          "base_uri": "https://localhost:8080/"
        },
        "id": "vMRmbOlh8KfU",
        "outputId": "ecd79cfd-efee-4e99-ea87-43d0177aae57"
      },
      "outputs": [
        {
          "name": "stdout",
          "output_type": "stream",
          "text": [
            "1\n",
            "2\n",
            "3\n",
            "4\n"
          ]
        }
      ],
      "source": [
        "i=1\n",
        "while i<5:\n",
        "  print(i)\n",
        "  i=i+1\n"
      ]
    },
    {
      "cell_type": "code",
      "execution_count": null,
      "metadata": {
        "id": "wmi8flWCBAXs"
      },
      "outputs": [],
      "source": [
        "# W.A.P to find the factorial of any number:"
      ]
    },
    {
      "cell_type": "code",
      "execution_count": null,
      "metadata": {
        "colab": {
          "base_uri": "https://localhost:8080/"
        },
        "id": "eA0Q8UWRBTXo",
        "outputId": "1ee9a7bd-d990-4efe-d70d-bc358070332d"
      },
      "outputs": [
        {
          "name": "stdout",
          "output_type": "stream",
          "text": [
            "Enter a No:-10\n"
          ]
        }
      ],
      "source": [
        " n=int(input(\"Enter a No:-\"))\n",
        " x=1\n",
        " for i in range(i,n+1):\n",
        "  x=x*i\n",
        "  print(x)"
      ]
    },
    {
      "cell_type": "code",
      "execution_count": null,
      "metadata": {
        "colab": {
          "base_uri": "https://localhost:8080/"
        },
        "id": "Vpa_nKUjBTtQ",
        "outputId": "5c0252f4-bed1-4d80-a501-9095dce62daa"
      },
      "outputs": [
        {
          "name": "stdout",
          "output_type": "stream",
          "text": [
            "Enter a No:-8\n",
            "1\n",
            "2\n",
            "6\n",
            "24\n",
            "120\n",
            "720\n",
            "5040\n",
            "40320\n"
          ]
        }
      ],
      "source": [
        "n=int(input(\"Enter a No:-\"))\n",
        "x=1\n",
        "for i in range(1,n+1):\n",
        "  x=x*i\n",
        "  print(x)"
      ]
    },
    {
      "cell_type": "code",
      "execution_count": null,
      "metadata": {
        "colab": {
          "base_uri": "https://localhost:8080/"
        },
        "id": "SApClIgEPXy2",
        "outputId": "64380cee-785e-4868-bc93-349b1efca711"
      },
      "outputs": [
        {
          "name": "stdout",
          "output_type": "stream",
          "text": [
            "Apple\n",
            "Banana\n",
            "Grapes\n"
          ]
        }
      ],
      "source": [
        "fruits=['Apple','Banana','Grapes']\n",
        "for fruits in fruits:\n",
        "  print(fruits)"
      ]
    },
    {
      "cell_type": "code",
      "execution_count": null,
      "metadata": {
        "colab": {
          "base_uri": "https://localhost:8080/"
        },
        "id": "4230A1RnPVyP",
        "outputId": "f642eaae-d815-444a-abfb-03679374e7c4"
      },
      "outputs": [
        {
          "name": "stdout",
          "output_type": "stream",
          "text": [
            "0\n",
            "1\n",
            "2\n",
            "3\n",
            "4\n"
          ]
        }
      ],
      "source": [
        "for i in range(5):\n",
        "  print(i)"
      ]
    },
    {
      "cell_type": "code",
      "execution_count": null,
      "metadata": {
        "colab": {
          "base_uri": "https://localhost:8080/"
        },
        "id": "9gC5KXX2R3-C",
        "outputId": "fd87e73c-4277-40ac-99ab-50c69d0ac9ce"
      },
      "outputs": [
        {
          "name": "stdout",
          "output_type": "stream",
          "text": [
            "P\n",
            "y\n",
            "t\n",
            "h\n",
            "o\n",
            "n\n"
          ]
        }
      ],
      "source": [
        "for letter in \"Python\":\n",
        "  print(letter)"
      ]
    },
    {
      "cell_type": "code",
      "execution_count": null,
      "metadata": {
        "id": "CiIMibfQR-e1"
      },
      "outputs": [],
      "source": [
        "# W.A.P that uses for loop to print the no. of 1 to 10"
      ]
    },
    {
      "cell_type": "code",
      "execution_count": null,
      "metadata": {
        "colab": {
          "base_uri": "https://localhost:8080/"
        },
        "id": "dLKBBNvcR-7u",
        "outputId": "75bb8b32-f31c-497f-ddb7-19d828e14d28"
      },
      "outputs": [
        {
          "name": "stdout",
          "output_type": "stream",
          "text": [
            "1\n",
            "2\n",
            "3\n",
            "4\n",
            "5\n",
            "6\n",
            "7\n",
            "8\n",
            "9\n",
            "10\n"
          ]
        }
      ],
      "source": [
        "for i in range(1,11):\n",
        "  print(i)\n"
      ]
    },
    {
      "cell_type": "code",
      "execution_count": null,
      "metadata": {
        "id": "v__ESEB1R_XT"
      },
      "outputs": [],
      "source": [
        "# W.A.P to find the max. no in a list using for loop"
      ]
    },
    {
      "cell_type": "code",
      "execution_count": null,
      "metadata": {
        "colab": {
          "base_uri": "https://localhost:8080/"
        },
        "id": "zoQP4Ll0R_zg",
        "outputId": "8908ce8b-035d-406b-e722-a1a671084ca2"
      },
      "outputs": [
        {
          "name": "stdout",
          "output_type": "stream",
          "text": [
            "76\n"
          ]
        }
      ],
      "source": [
        "x=[1,3,4,6,76,43]\n",
        "for i in x:\n",
        "  x.sort()\n",
        "\n",
        "print(i)"
      ]
    },
    {
      "cell_type": "code",
      "execution_count": null,
      "metadata": {
        "id": "YCmgXMObSAYv"
      },
      "outputs": [],
      "source": [
        "# W.A.P that prints all even no. from  1 to 20 using for loop"
      ]
    },
    {
      "cell_type": "code",
      "execution_count": null,
      "metadata": {
        "colab": {
          "base_uri": "https://localhost:8080/"
        },
        "id": "Ly4Abi0HU5jL",
        "outputId": "9cef70cf-e1f2-4d8f-cae1-f7249e57bc65"
      },
      "outputs": [
        {
          "name": "stdout",
          "output_type": "stream",
          "text": [
            "0\n",
            "2\n",
            "4\n",
            "6\n",
            "8\n",
            "10\n",
            "12\n",
            "14\n",
            "16\n",
            "18\n"
          ]
        }
      ],
      "source": [
        "for i in range(0,20,2):\n",
        "  print(i)\n"
      ]
    },
    {
      "cell_type": "code",
      "execution_count": null,
      "metadata": {
        "id": "B1P-tD3DU5fl"
      },
      "outputs": [],
      "source": [
        "# Even no. btw 1 to 100"
      ]
    },
    {
      "cell_type": "code",
      "execution_count": null,
      "metadata": {
        "colab": {
          "base_uri": "https://localhost:8080/"
        },
        "id": "GJ-6uFb5U5cj",
        "outputId": "5743c222-6072-4f21-8356-89697361d1b5"
      },
      "outputs": [
        {
          "name": "stdout",
          "output_type": "stream",
          "text": [
            "2\n",
            "4\n",
            "6\n",
            "8\n",
            "10\n",
            "12\n",
            "14\n",
            "16\n",
            "18\n",
            "20\n",
            "22\n",
            "24\n",
            "26\n",
            "28\n",
            "30\n",
            "32\n",
            "34\n",
            "36\n",
            "38\n",
            "40\n",
            "42\n",
            "44\n",
            "46\n",
            "48\n",
            "50\n",
            "52\n",
            "54\n",
            "56\n",
            "58\n",
            "60\n",
            "62\n",
            "64\n",
            "66\n",
            "68\n",
            "70\n",
            "72\n",
            "74\n",
            "76\n",
            "78\n",
            "80\n",
            "82\n",
            "84\n",
            "86\n",
            "88\n",
            "90\n",
            "92\n",
            "94\n",
            "96\n",
            "98\n"
          ]
        }
      ],
      "source": [
        "for i in range(1, 100):\n",
        "  if i%2==0:\n",
        "    print(i)"
      ]
    },
    {
      "cell_type": "code",
      "execution_count": null,
      "metadata": {
        "id": "kxO8p3k2U5Ys"
      },
      "outputs": [],
      "source": [
        "# WAP for factorial of a number using while loop. (IMP)"
      ]
    },
    {
      "cell_type": "code",
      "execution_count": null,
      "metadata": {
        "colab": {
          "base_uri": "https://localhost:8080/"
        },
        "id": "worB6ryIU5UR",
        "outputId": "821f50d3-b05f-4a15-c847-88a4ac530905"
      },
      "outputs": [
        {
          "name": "stdout",
          "output_type": "stream",
          "text": [
            "Enter any number: 10\n",
            "Factorial is:  3628800\n"
          ]
        }
      ],
      "source": [
        "n=int(input(\"Enter any number: \"))\n",
        "# logic to calculate the factorial of a number\n",
        "f=1\n",
        "while n >= 1:\n",
        "  f=f*n\n",
        "  n=n-1\n",
        "  #print output\n",
        "print(\"Factorial is: \",f)"
      ]
    },
    {
      "cell_type": "code",
      "execution_count": null,
      "metadata": {
        "colab": {
          "base_uri": "https://localhost:8080/"
        },
        "id": "okSEf1IcU5Q1",
        "outputId": "fa2b992c-0417-4412-e95f-52566240c134"
      },
      "outputs": [
        {
          "name": "stdout",
          "output_type": "stream",
          "text": [
            "Enter a number: 27\n",
            "27 is not a prime number\n"
          ]
        }
      ],
      "source": [
        "# WAP to check whether a given number is prime or not. (IMP)\n",
        "num=int(input(\"Enter a number: \"))\n",
        "\n",
        "if num==0 or num==1:\n",
        "  print(\"Num is not a prime Number\")\n",
        "elif num>1:\n",
        "  #Check for factors\n",
        "  for i in range(2,num):\n",
        "    if(num%i)==0:\n",
        "      print(num,\"is not a prime number\")\n",
        "      break\n",
        "  else:\n",
        "    print(num,\"is a prime number\")\n",
        "\n",
        "# if input number is less than\n",
        "# or equal to 1, is not prime\n",
        "else:\n",
        "  print(num,\"is not  a prime number\")\n"
      ]
    },
    {
      "cell_type": "code",
      "execution_count": null,
      "metadata": {
        "colab": {
          "base_uri": "https://localhost:8080/"
        },
        "id": "5AxJhEG3U4jQ",
        "outputId": "7884d393-1ebd-4a1b-f3ba-40e81af32cc0"
      },
      "outputs": [
        {
          "name": "stdout",
          "output_type": "stream",
          "text": [
            "Enter any number: 657\n",
            "Reverse of a given number is:  756\n"
          ]
        }
      ],
      "source": [
        "# WAP to find reverse of a number\n",
        "num=int(input(\"Enter any number: \"))\n",
        "rev=0\n",
        "while(num>0):\n",
        "  rev=(rev*10)+num%10\n",
        "  num=num//10\n",
        "print(\"Reverse of a given number is: \",rev)"
      ]
    },
    {
      "cell_type": "code",
      "execution_count": null,
      "metadata": {
        "colab": {
          "base_uri": "https://localhost:8080/"
        },
        "id": "yvu3Y1Z8U4b0",
        "outputId": "93b03e1c-d3a8-4a3f-8642-e159d76e1def"
      },
      "outputs": [
        {
          "name": "stdout",
          "output_type": "stream",
          "text": [
            "Enter A numaber: 153\n",
            "Number is Armstrong\n"
          ]
        }
      ],
      "source": [
        "# WAP to check whether the given number is Armstrong or not.\n",
        "n=int(input(\"Enter A number: \"))\n",
        "x=n\n",
        "sum=0\n",
        "while(n>0):\n",
        "  sum=sum+(n%10)*(n%10)*(n%10)\n",
        "  n=n//10\n",
        "if x==sum:\n",
        "  print(\"Number is Armstrong\")\n",
        "else:\n",
        "  print(\"Number is not Armstrong\")"
      ]
    },
    {
      "cell_type": "code",
      "execution_count": null,
      "metadata": {
        "colab": {
          "base_uri": "https://localhost:8080/"
        },
        "id": "sE6CxpvMGwDq",
        "outputId": "4f77df46-3195-4756-8303-599dc2135b9e"
      },
      "outputs": [
        {
          "name": "stdout",
          "output_type": "stream",
          "text": [
            "Enter the limit number: 10\n",
            "0\n",
            "1\n",
            "1\n",
            "2\n",
            "3\n",
            "5\n",
            "8\n"
          ]
        }
      ],
      "source": [
        "# WAP to print fibonacci series upto given list.\n",
        "n=int(input(\"Enter the limit number: \"))\n",
        "x=0\n",
        "y=1\n",
        "z=0\n",
        "while(z<=n):\n",
        "  print(z)\n",
        "  x=y\n",
        "  y=z\n",
        "  z= x+y\n"
      ]
    },
    {
      "cell_type": "code",
      "execution_count": null,
      "metadata": {
        "id": "kjr3sLxsGv8x"
      },
      "outputs": [],
      "source": [
        "num=int(input(\"E\"))"
      ]
    },
    {
      "cell_type": "code",
      "execution_count": null,
      "metadata": {
        "colab": {
          "background_save": true
        },
        "id": "0jfd3w_tGv0U"
      },
      "outputs": [],
      "source": []
    },
    {
      "cell_type": "code",
      "execution_count": null,
      "metadata": {
        "id": "t5aMMPj-Gvv6"
      },
      "outputs": [],
      "source": []
    },
    {
      "cell_type": "code",
      "execution_count": null,
      "metadata": {
        "id": "GuSaeN7lGvsd"
      },
      "outputs": [],
      "source": []
    },
    {
      "cell_type": "code",
      "execution_count": null,
      "metadata": {
        "id": "vmXWSfGnGvlY"
      },
      "outputs": [],
      "source": []
    },
    {
      "cell_type": "code",
      "execution_count": null,
      "metadata": {
        "id": "GC9rT2r6Gvgv"
      },
      "outputs": [],
      "source": []
    },
    {
      "cell_type": "code",
      "execution_count": null,
      "metadata": {
        "id": "69eZIe3hGved"
      },
      "outputs": [],
      "source": []
    },
    {
      "cell_type": "code",
      "execution_count": null,
      "metadata": {
        "id": "WcbahE4VGva-"
      },
      "outputs": [],
      "source": []
    }
  ],
  "metadata": {
    "colab": {
      "provenance": []
    },
    "kernelspec": {
      "display_name": "Python 3",
      "name": "python3"
    },
    "language_info": {
      "name": "python"
    }
  },
  "nbformat": 4,
  "nbformat_minor": 0
}